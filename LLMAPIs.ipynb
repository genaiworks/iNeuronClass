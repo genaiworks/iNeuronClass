{
  "nbformat": 4,
  "nbformat_minor": 0,
  "metadata": {
    "colab": {
      "provenance": [],
      "toc_visible": true,
      "gpuType": "T4",
      "authorship_tag": "ABX9TyP68QTxxTz/OntKMvASQUc8",
      "include_colab_link": true
    },
    "kernelspec": {
      "name": "python3",
      "display_name": "Python 3"
    },
    "language_info": {
      "name": "python"
    },
    "accelerator": "GPU"
  },
  "cells": [
    {
      "cell_type": "markdown",
      "metadata": {
        "id": "view-in-github",
        "colab_type": "text"
      },
      "source": [
        "<a href=\"https://colab.research.google.com/github/genaiworks/iNeuronClass/blob/main/LLMAPIs.ipynb\" target=\"_parent\"><img src=\"https://colab.research.google.com/assets/colab-badge.svg\" alt=\"Open In Colab\"/></a>"
      ]
    },
    {
      "cell_type": "code",
      "execution_count": 4,
      "metadata": {
        "id": "C2ogF3-wGnmo"
      },
      "outputs": [],
      "source": [
        "#HuggingFace API"
      ]
    },
    {
      "cell_type": "code",
      "source": [
        "#OpenAI API"
      ],
      "metadata": {
        "id": "E9XOakzBGveK"
      },
      "execution_count": 2,
      "outputs": []
    },
    {
      "cell_type": "code",
      "source": [
        "#Google API"
      ],
      "metadata": {
        "id": "4UuWyi_gGxuu"
      },
      "execution_count": 3,
      "outputs": []
    },
    {
      "cell_type": "code",
      "source": [
        "#Access Model using Langchain and LLamaIndex"
      ],
      "metadata": {
        "id": "njlEAEzdG1od"
      },
      "execution_count": 5,
      "outputs": []
    },
    {
      "cell_type": "code",
      "source": [
        "#LangChain\n",
        "\n"
      ],
      "metadata": {
        "id": "SUG74z9NG-5G"
      },
      "execution_count": 6,
      "outputs": []
    },
    {
      "cell_type": "code",
      "source": [
        "#LLmaIndex"
      ],
      "metadata": {
        "id": "DjAn1dzRHEkp"
      },
      "execution_count": 7,
      "outputs": []
    },
    {
      "cell_type": "code",
      "source": [
        "# ChatGPT is Application is end to end application\n",
        "# Model is GPT-4"
      ],
      "metadata": {
        "id": "SurvIW9FHGyO"
      },
      "execution_count": 8,
      "outputs": []
    },
    {
      "cell_type": "code",
      "source": [],
      "metadata": {
        "id": "fLMKpysFHn00"
      },
      "execution_count": null,
      "outputs": []
    }
  ]
}